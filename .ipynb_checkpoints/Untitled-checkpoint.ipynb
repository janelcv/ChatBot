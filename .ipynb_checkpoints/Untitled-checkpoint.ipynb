{
 "cells": [
  {
   "cell_type": "code",
   "execution_count": 2,
   "metadata": {},
   "outputs": [],
   "source": [
    "import nltk\n",
    "import wikipedia\n",
    "import numpy as np\n",
    "import random\n",
    "import string # to process standard python strings"
   ]
  },
  {
   "cell_type": "code",
   "execution_count": 3,
   "metadata": {},
   "outputs": [],
   "source": [
    "#Using wikipedia parser to extract plain text from wikipedia webpage with article on your choice\n",
    "p = wikipedia.page(\"Kazakhstan\")\n",
    "url = p.url # Wikipedia url.\n",
    "title = p.title # Article title.\n",
    "content = p.content # Content of page."
   ]
  },
  {
   "cell_type": "code",
   "execution_count": 4,
   "metadata": {},
   "outputs": [],
   "source": [
    "#Exporting data as txt file\n",
    "text_file = open('chatbot.txt','w')\n",
    "text_file.write(content)\n",
    "text_file.close()"
   ]
  },
  {
   "cell_type": "code",
   "execution_count": 5,
   "metadata": {},
   "outputs": [],
   "source": [
    "#Reading data from txt file\n",
    "file=open('chatbot.txt','r',errors = 'ignore')\n",
    "raw_text=file.read()\n",
    "raw_text=raw_text.lower()# converts to lowercase"
   ]
  },
  {
   "cell_type": "code",
   "execution_count": 6,
   "metadata": {},
   "outputs": [],
   "source": [
    "# first-time use only, if you have not installed all nltk packages \n",
    "#nltk.download('punkt') \n",
    "#nltk.download('wordnet') \n",
    "sent_tokens = nltk.sent_tokenize(raw_text)# converts to list of sentences \n",
    "word_tokens = nltk.word_tokenize(raw_text)# converts to list of words"
   ]
  },
  {
   "cell_type": "code",
   "execution_count": 7,
   "metadata": {},
   "outputs": [],
   "source": [
    "lemmer = nltk.stem.WordNetLemmatizer()"
   ]
  },
  {
   "cell_type": "code",
   "execution_count": 8,
   "metadata": {},
   "outputs": [],
   "source": [
    "def LemTokens(tokens):\n",
    "    return [lemmer.lemmatize(token) for token in tokens]\n",
    "remove_punct_dict = dict((ord(punct), None) for punct in string.punctuation)\n",
    "def LemNormalize(text):\n",
    "    return LemTokens(nltk.word_tokenize(text.lower().translate(remove_punct_dict)))"
   ]
  },
  {
   "cell_type": "code",
   "execution_count": 9,
   "metadata": {},
   "outputs": [],
   "source": [
    "greet_inp = (\"hello\", \"hi\",\"hey\", \"greetings\", \"sup\", \"what's up\",)\n",
    "greet_resp = [\"hello\", \"hi\", \"hey\", \"hi there\", \"hello! how can i help you?\"]\n",
    "def greeting(sentence):\n",
    " \n",
    "    for word in sentence.split():\n",
    "        if word.lower() in greet_inp:\n",
    "            return random.choice(greet_resp)"
   ]
  },
  {
   "cell_type": "code",
   "execution_count": 10,
   "metadata": {},
   "outputs": [],
   "source": [
    "#import dependencies that will be used to find the similarity\n",
    "#between words entered by the user and the words in the corpus. \n",
    "from sklearn.feature_extraction.text import TfidfVectorizer\n",
    "from sklearn.metrics.pairwise import cosine_similarity"
   ]
  },
  {
   "cell_type": "code",
   "execution_count": 11,
   "metadata": {},
   "outputs": [],
   "source": [
    "def response(user_resp):\n",
    "    robo_resp=''\n",
    "    sent_tokens.append(user_resp)\n",
    "    TfidfVec = TfidfVectorizer(tokenizer=LemNormalize, stop_words='english')\n",
    "    tfidf = TfidfVec.fit_transform(sent_tokens)\n",
    "    vals = cosine_similarity(tfidf[-1], tfidf)\n",
    "    idx=vals.argsort()[0][-2]\n",
    "    flat = vals.flatten()\n",
    "    flat.sort()\n",
    "    req_tfidf = flat[-2]\n",
    "    if(req_tfidf==0):\n",
    "        robo_resp=robo_resp+\"please, try something else\"\n",
    "        return robo_resp\n",
    "    else:\n",
    "        robo_resp = robo_resp+sent_tokens[idx]\n",
    "        return robo_resp"
   ]
  },
  {
   "cell_type": "code",
   "execution_count": 12,
   "metadata": {},
   "outputs": [
    {
     "name": "stdout",
     "output_type": "stream",
     "text": [
      "ChatBot: Hello i'm a simple ChatBot. I will help you to find out information about Kazakhstan. If you want to exit, please, type Bye!\n",
      "Tell me about the location?\n",
      "ChatBot: please, try something else\n",
      "Where is Kazakhstan located?\n",
      "ChatBot: it is a transcontinental country largely located in asia; the most western parts are in europe.\n",
      "Tell me about natural resources\n",
      "ChatBot: === natural resources ===\n",
      "\n",
      "kazakhstan has an abundant supply of accessible mineral and fossil fuel resources.\n",
      "what is the climate there?\n",
      "ChatBot: === climate ===\n",
      "\n",
      "kazakhstan has an \"extreme\" continental climate, with warm summers and very cold winters.\n",
      "What is the GDP \n",
      "ChatBot: the ratio of total governmental debt to gdp in 2000, was 21.7%; in 2001, it was 17.5%, and in 2002, it was 15.4%.economic growth, combined with earlier tax and financial sector reforms, has dramatically improved government finance from the 1999 budget deficit level of 3.5% of gdp to a deficit of 1.2% of gdp in 2003. government revenues grew from 19.8% of gdp in 1999 to 22.6% of gdp in 2001, but decreased to 16.2% of gdp in 2003. in 2000, kazakhstan adopted a new tax code in an effort to consolidate these gains.\n",
      "Bye\n",
      "ChatBot: Bye! take care..\n"
     ]
    }
   ],
   "source": [
    "flag=True\n",
    "print(f\"ChatBot: Hello i'm a simple ChatBot. I will help you to find out information about {title}. If you want to exit, please, type Bye!\")\n",
    "while(flag==True):\n",
    "    user_resp = input()\n",
    "    user_resp =user_resp.lower()\n",
    "    if(user_resp!='bye'):\n",
    "        if(user_resp=='thanks' or user_resp=='thank you' ):\n",
    "            flag=False\n",
    "            print(\"ChatBot: You are welcome...Have a nice day!\")\n",
    "        else:\n",
    "            if(greeting(user_resp)!=None):\n",
    "                print(\"ChatBot: \"+greeting(user_resp))\n",
    "            else:\n",
    "                print(\"ChatBot: \",end=\"\")\n",
    "                print(response(user_resp))\n",
    "                sent_tokens.remove(user_resp)\n",
    "    else:\n",
    "        flag=False\n",
    "        print(\"ChatBot: Bye! take care..\")"
   ]
  }
 ],
 "metadata": {
  "kernelspec": {
   "display_name": "Python 3",
   "language": "python",
   "name": "python3"
  },
  "language_info": {
   "codemirror_mode": {
    "name": "ipython",
    "version": 3
   },
   "file_extension": ".py",
   "mimetype": "text/x-python",
   "name": "python",
   "nbconvert_exporter": "python",
   "pygments_lexer": "ipython3",
   "version": "3.6.5"
  }
 },
 "nbformat": 4,
 "nbformat_minor": 2
}
